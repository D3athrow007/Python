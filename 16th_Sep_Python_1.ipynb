{
 "cells": [
  {
   "cell_type": "code",
   "execution_count": 1,
   "id": "3a376493",
   "metadata": {},
   "outputs": [
    {
     "name": "stdout",
     "output_type": "stream",
     "text": [
      "Before swapping the values - \n",
      " x :  5  and y :  7\n",
      "After swapping the values - \n",
      " x :  7  and y :  5\n"
     ]
    }
   ],
   "source": [
    "# Python code to swap two numbers without using another variable\n",
    "\n",
    "x = 5\n",
    "y = 7\n",
    "print (\"Before swapping the values - \")\n",
    "print(\" x : \", x, \" and y : \", y)\n",
    "x, y = y, x\n",
    "print (\"After swapping the values - \")\n",
    "print(\" x : \", x, \" and y : \", y)"
   ]
  },
  {
   "cell_type": "code",
   "execution_count": 2,
   "id": "ace1b26f",
   "metadata": {
    "scrolled": true
   },
   "outputs": [
    {
     "name": "stdout",
     "output_type": "stream",
     "text": [
      "Enter the length of the rectangle: 5\n",
      "Enter the weidth of the rectangle: 2\n",
      "Area of the rectangle is :  10\n"
     ]
    }
   ],
   "source": [
    "# Python code to find the area of a rectangle\n",
    "\n",
    "l = int(input(\"Enter the length of the rectangle: \"))\n",
    "w = int(input(\"Enter the weidth of the rectangle: \"))\n",
    "a = l * w\n",
    "print (\"Area of the rectangle is : \",a)"
   ]
  },
  {
   "cell_type": "code",
   "execution_count": 10,
   "id": "468d6b6a",
   "metadata": {},
   "outputs": [
    {
     "name": "stdout",
     "output_type": "stream",
     "text": [
      "Enter the Temperature in Celsius :\n",
      "47\n",
      "Temperature in Fahrenheit is :  116.60000000000001\n"
     ]
    }
   ],
   "source": [
    "# Python code to convert temperature from Celsius to Fahrenheit\n",
    "\n",
    "c = int(input(\"Enter the Temperature in Celsius : \"))\n",
    "f = (1.8 * c) + 32\n",
    "print(\"Temperature in Fahrenheit is : \",f)"
   ]
  },
  {
   "cell_type": "code",
   "execution_count": 13,
   "id": "7cc8f325",
   "metadata": {},
   "outputs": [
    {
     "name": "stdout",
     "output_type": "stream",
     "text": [
      "Enter the string : school\n",
      "The length of the string is :  6\n"
     ]
    }
   ],
   "source": [
    "# Python code to find the length of a string\n",
    "\n",
    "str = input(\"Enter the string : \")\n",
    "print(\"The length of the string is : \",len(str))"
   ]
  },
  {
   "cell_type": "code",
   "execution_count": 15,
   "id": "5cc0e0b6",
   "metadata": {},
   "outputs": [
    {
     "name": "stdout",
     "output_type": "stream",
     "text": [
      "Enter the sentence : I am a very good boy\n",
      "The number of vowels in the sentence is  :  7\n"
     ]
    }
   ],
   "source": [
    "# Python code for counting the number of vowels in a sentence\n",
    "\n",
    "a = input(\"Enter the sentence : \")\n",
    "c = 0\n",
    "vowels = \"aeiouAEIOU\"\n",
    "for char in a:\n",
    "    if char in vowels:\n",
    "        c += 1\n",
    "print(\"The number of vowels in the sentence is  : \",c) "
   ]
  },
  {
   "cell_type": "code",
   "execution_count": 16,
   "id": "aa3121f1",
   "metadata": {},
   "outputs": [
    {
     "name": "stdout",
     "output_type": "stream",
     "text": [
      "The string before reversing is :  college\n",
      "The reversed string is :  egelloc\n"
     ]
    }
   ],
   "source": [
    "# Python code to reverse the order of characters of a given string using string slicing \n",
    "\n",
    "s = \"college\"\n",
    "print(\"The string before reversing is : \",s)\n",
    "print(\"The reversed string is : \",s[::-1])"
   ]
  },
  {
   "cell_type": "code",
   "execution_count": 22,
   "id": "1d58d587",
   "metadata": {},
   "outputs": [
    {
     "name": "stdout",
     "output_type": "stream",
     "text": [
      "Enter the string : dad\n",
      "The string is palindrome \n"
     ]
    }
   ],
   "source": [
    "# Python code to check if a string is palindrome or not\n",
    "\n",
    "a = input(\"Enter the string : \")\n",
    "b = a[::-1]\n",
    "if a == b:\n",
    "    print(\"The string is palindrome \")\n",
    "else:\n",
    "    print(\"The string is not palindrome \")"
   ]
  },
  {
   "cell_type": "code",
   "execution_count": 23,
   "id": "49d13bc2",
   "metadata": {},
   "outputs": [
    {
     "name": "stdout",
     "output_type": "stream",
     "text": [
      "Enter the string : I am a very good boy\n",
      "The string after removing all spaces  :  Iamaverygoodboy\n"
     ]
    }
   ],
   "source": [
    "# Python code to take a string as input and removes all the spaces from it\n",
    "\n",
    "a = input(\"Enter the string : \")\n",
    "b = a.replace(\" \", \"\")\n",
    "print(\"The string after removing all spaces  : \",b)"
   ]
  }
 ],
 "metadata": {
  "kernelspec": {
   "display_name": "Python 3 (ipykernel)",
   "language": "python",
   "name": "python3"
  },
  "language_info": {
   "codemirror_mode": {
    "name": "ipython",
    "version": 3
   },
   "file_extension": ".py",
   "mimetype": "text/x-python",
   "name": "python",
   "nbconvert_exporter": "python",
   "pygments_lexer": "ipython3",
   "version": "3.11.4"
  }
 },
 "nbformat": 4,
 "nbformat_minor": 5
}
